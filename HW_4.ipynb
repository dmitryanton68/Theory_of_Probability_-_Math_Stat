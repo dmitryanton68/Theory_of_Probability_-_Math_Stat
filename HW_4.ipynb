{
 "cells": [
  {
   "cell_type": "markdown",
   "metadata": {},
   "source": [
    "#### Задача 1\n",
    "\n",
    "О непрерывной равномерно распределенной случайной величине B известно, что ее дисперсия равна 0.2. Можно ли найти правую границу величины B и ее среднее значение зная, что левая граница равна 0.5? Если да, найдите ее."
   ]
  },
  {
   "cell_type": "code",
   "execution_count": 1,
   "metadata": {},
   "outputs": [],
   "source": [
    "import pandas as pd\n",
    "import numpy as np\n",
    "from matplotlib import pyplot as plt"
   ]
  },
  {
   "cell_type": "markdown",
   "metadata": {},
   "source": [
    "#### ОТВЕТ"
   ]
  },
  {
   "cell_type": "markdown",
   "metadata": {},
   "source": [
    "При равномерном распределении\n",
    "\n",
    "$$ D = \\frac{(B - 0.5)^2}{12} = 0.2 $$\n",
    "\n",
    "$$ mean.value = \\frac{0.5 + B}{2}$$"
   ]
  },
  {
   "cell_type": "code",
   "execution_count": 2,
   "metadata": {},
   "outputs": [
    {
     "data": {
      "text/plain": [
       "2.049193338482967"
      ]
     },
     "execution_count": 2,
     "metadata": {},
     "output_type": "execute_result"
    }
   ],
   "source": [
    "B = np.sqrt(2.4) + 0.5\n",
    "B"
   ]
  },
  {
   "cell_type": "code",
   "execution_count": 3,
   "metadata": {},
   "outputs": [
    {
     "data": {
      "text/plain": [
       "1.2745966692414834"
      ]
     },
     "execution_count": 3,
     "metadata": {},
     "output_type": "execute_result"
    }
   ],
   "source": [
    "mean_value = (0.5 + B)/2\n",
    "mean_value"
   ]
  },
  {
   "cell_type": "markdown",
   "metadata": {},
   "source": [
    "#### Задача 2\n",
    "\n",
    "На сколько сигм (средних квадратических отклонений) отклоняется рост человека, равный 190 см, от математического ожидания роста в популяции, в которой M(X) = 178 и D(X) = 25?"
   ]
  },
  {
   "cell_type": "markdown",
   "metadata": {},
   "source": [
    "#### ОТВЕТ"
   ]
  },
  {
   "cell_type": "markdown",
   "metadata": {},
   "source": [
    "Рост в популяции распределяется по нормальному закону, т.е. $$ a = M(X) = 178 $$ и $$ \\sigma^2 = D(X) = 25 $$"
   ]
  },
  {
   "cell_type": "code",
   "execution_count": 4,
   "metadata": {},
   "outputs": [
    {
     "data": {
      "text/plain": [
       "2.4"
      ]
     },
     "execution_count": 4,
     "metadata": {},
     "output_type": "execute_result"
    }
   ],
   "source": [
    "D = 25\n",
    "M = 178\n",
    "sigma = np.sqrt(D)\n",
    "height = 190\n",
    "quantity = (height - M)/sigma\n",
    "quantity"
   ]
  },
  {
   "cell_type": "markdown",
   "metadata": {},
   "source": [
    "#### Задача 3\n",
    "\n",
    "Рост взрослого населения города X имеет нормальное распределение, причем, средний рост равен 174 см, а среднее квадратическое отклонение равно 8 см. Какова вероятность того, что случайным образом выбранный взрослый человек имеет рост:\n",
    "1. больше 182 см?\n",
    "2. больше 190 см?\n",
    "3. от 166 см до 190 см?\n",
    "4. от 166 см до 182 см?\n",
    "5. от 158 см до 190 см?\n",
    "6. не выше 150 см или не ниже 190 см?\n",
    "7. не выше 150 см или не ниже 198 см?\n",
    "8. ниже 166 см?"
   ]
  },
  {
   "cell_type": "markdown",
   "metadata": {},
   "source": [
    "#### ОТВЕТ"
   ]
  },
  {
   "cell_type": "markdown",
   "metadata": {},
   "source": [
    "Так как расматривается нормальном распределённая случайная величина, то отрезок $ [-\\sigma + M(X), \\sigma + M(X)] = [166, 182] $ содержит 68.2% значений нормально распределённой величины, отрезок $ [-2 \\cdot \\sigma + M(X), 2 \\cdot \\sigma + M(X)] = [158, 190] $ содержит 95.4%, а отрезок $ [-3 \\cdot \\sigma + M(X), 3 \\cdot \\sigma + M(X)] = [150, 198] $ содержит 99.7%.\n",
    "\n",
    "Поэтому вычислив относительное отклонение величины от среднего значения определим вероятность попадания величины в интервал."
   ]
  },
  {
   "cell_type": "code",
   "execution_count": 5,
   "metadata": {},
   "outputs": [],
   "source": [
    "def probability(value):\n",
    "    M = 174\n",
    "    sigma = 8\n",
    "    a1 = 68.2\n",
    "    a2 = 95.4\n",
    "    a3 = 99.7\n",
    "    quantity = abs(M - value)/sigma\n",
    "    if 3 >= quantity > 2:\n",
    "        return a3\n",
    "    elif 2 >= quantity > 1:\n",
    "        return a2\n",
    "    elif 1 >= quantity > 0:\n",
    "        return a1"
   ]
  },
  {
   "cell_type": "code",
   "execution_count": 6,
   "metadata": {},
   "outputs": [
    {
     "name": "stdout",
     "output_type": "stream",
     "text": [
      "Вероятность того, что случайным образом выбранный взрослый человек имеет рост больше 182 см =  15.90%\n"
     ]
    }
   ],
   "source": [
    "print(f'Вероятность того, что случайным образом выбранный взрослый человек имеет рост больше 182 см = {(100 - probability(182))/2: .2f}%')"
   ]
  },
  {
   "cell_type": "code",
   "execution_count": 7,
   "metadata": {},
   "outputs": [
    {
     "name": "stdout",
     "output_type": "stream",
     "text": [
      "Вероятность того, что случайным образом выбранный взрослый человек имеет рост больше 190 см =  2.30%\n"
     ]
    }
   ],
   "source": [
    "print(f'Вероятность того, что случайным образом выбранный взрослый человек имеет рост больше 190 см = {(100 - probability(190))/2: .2f}%')"
   ]
  },
  {
   "cell_type": "code",
   "execution_count": 8,
   "metadata": {},
   "outputs": [
    {
     "name": "stdout",
     "output_type": "stream",
     "text": [
      "Вероятность того, что случайным образом выбранный взрослый человек имеет рост от 166 см до 190 см =  81.80%\n"
     ]
    }
   ],
   "source": [
    "print(f'Вероятность того, что случайным образом выбранный взрослый человек имеет рост от 166 см до 190 см = {probability(166) + (probability(190)-probability(166))/2: .2f}%')"
   ]
  },
  {
   "cell_type": "code",
   "execution_count": 9,
   "metadata": {},
   "outputs": [
    {
     "name": "stdout",
     "output_type": "stream",
     "text": [
      "Вероятность того, что случайным образом выбранный взрослый человек имеет рост от 166 см до 182 см =  68.20%\n"
     ]
    }
   ],
   "source": [
    "print(f'Вероятность того, что случайным образом выбранный взрослый человек имеет рост от 166 см до 182 см = {probability(166): .2f}%')"
   ]
  },
  {
   "cell_type": "code",
   "execution_count": 10,
   "metadata": {},
   "outputs": [
    {
     "name": "stdout",
     "output_type": "stream",
     "text": [
      "Вероятность того, что случайным образом выбранный взрослый человек имеет рост от 158 см до 190 см =  95.40%\n"
     ]
    }
   ],
   "source": [
    "print(f'Вероятность того, что случайным образом выбранный взрослый человек имеет рост от 158 см до 190 см = {probability(190): .2f}%')"
   ]
  },
  {
   "cell_type": "code",
   "execution_count": 11,
   "metadata": {},
   "outputs": [
    {
     "name": "stdout",
     "output_type": "stream",
     "text": [
      "Вероятность того, что случайным образом выбранный взрослый человек имеет рост не выше 150 см или не ниже 190 см =  2.45%\n"
     ]
    }
   ],
   "source": [
    "print(f'Вероятность того, что случайным образом выбранный взрослый человек имеет рост не выше 150 см или не ниже 190 см = {(100 - probability(150))/2 + (100 - probability(190))/2: .2f}%')"
   ]
  },
  {
   "cell_type": "code",
   "execution_count": 12,
   "metadata": {},
   "outputs": [
    {
     "name": "stdout",
     "output_type": "stream",
     "text": [
      "Вероятность того, что случайным образом выбранный взрослый человек имеет рост не выше 150 см или не ниже 198 см =  0.30%\n"
     ]
    }
   ],
   "source": [
    "print(f'Вероятность того, что случайным образом выбранный взрослый человек имеет рост не выше 150 см или не ниже 198 см = {(100 - probability(198)): .2f}%')"
   ]
  },
  {
   "cell_type": "code",
   "execution_count": 13,
   "metadata": {},
   "outputs": [
    {
     "name": "stdout",
     "output_type": "stream",
     "text": [
      "Вероятность того, что случайным образом выбранный взрослый человек имеет рост ниже 166 см =  15.90%\n"
     ]
    }
   ],
   "source": [
    "print(f'Вероятность того, что случайным образом выбранный взрослый человек имеет рост ниже 166 см = {(100 - probability(166))/2: .2f}%')"
   ]
  },
  {
   "cell_type": "code",
   "execution_count": null,
   "metadata": {},
   "outputs": [],
   "source": []
  }
 ],
 "metadata": {
  "kernelspec": {
   "display_name": "Python 3",
   "language": "python",
   "name": "python3"
  },
  "language_info": {
   "codemirror_mode": {
    "name": "ipython",
    "version": 3
   },
   "file_extension": ".py",
   "mimetype": "text/x-python",
   "name": "python",
   "nbconvert_exporter": "python",
   "pygments_lexer": "ipython3",
   "version": "3.7.1"
  }
 },
 "nbformat": 4,
 "nbformat_minor": 2
}
